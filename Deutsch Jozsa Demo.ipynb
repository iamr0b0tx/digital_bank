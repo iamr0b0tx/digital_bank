{
 "metadata": {
  "language_info": {
   "codemirror_mode": {
    "name": "ipython",
    "version": 3
   },
   "file_extension": ".py",
   "mimetype": "text/x-python",
   "name": "python",
   "nbconvert_exporter": "python",
   "pygments_lexer": "ipython3",
   "version": 3
  },
  "orig_nbformat": 2,
  "kernelspec": {
   "name": "python_defaultSpec_1596487293769",
   "display_name": "Python 3.7.2 64-bit ('venv': venv)"
  }
 },
 "nbformat": 4,
 "nbformat_minor": 2,
 "cells": [
  {
   "cell_type": "code",
   "execution_count": 11,
   "metadata": {
    "tags": []
   },
   "outputs": [
    {
     "output_type": "stream",
     "name": "stdout",
     "text": "'An IBM Quantum Experience account is already in use for the session.'\n"
    }
   ],
   "source": [
    "import numpy as np\n",
    "\n",
    "# import qiskit libs\n",
    "from qiskit import IBMQ, BasicAer\n",
    "from qiskit.providers.ibmq import least_busy\n",
    "from qiskit import QuantumCircuit, execute\n",
    "from qiskit.tools.jupyter import *\n",
    "\n",
    "API_KEY = 'c6f6569ab6b6f9ec1a437d4d1187b7c7ea2ac4bd91679613e204e7bb9728efd9639af14a86f840cbb05e60b6a249e532e3168c7dbff07edc4c37de9c4bb3e0b3'\n",
    "try:\n",
    "    provider = IBMQ.enable_account(API_KEY)\n",
    "except Exception as e:\n",
    "    print(e)\n",
    "\n",
    "# qiskit plot tool\n",
    "from qiskit.visualization import plot_histogram"
   ]
  },
  {
   "cell_type": "code",
   "execution_count": 12,
   "metadata": {},
   "outputs": [],
   "source": [
    "def dj_oracle(case, n):\n",
    "    oracle_qc = QuantumCircuit(n+1)\n",
    "\n",
    "    if case == \"balanced\":\n",
    "        for qubit in range(n):\n",
    "            oracle_qc.cx(qubit, n)\n",
    "\n",
    "    if case == \"constant\":\n",
    "        output = np.random.randint(2)\n",
    "        if output == 1:\n",
    "            oracle_qc.x(n)\n",
    "\n",
    "    oracle_gate = oracle_qc.to_gate()\n",
    "    oracle_gate.name = \"Oracle\"\n",
    "    return oracle_gate"
   ]
  },
  {
   "cell_type": "code",
   "execution_count": 13,
   "metadata": {},
   "outputs": [],
   "source": [
    "def dj_algorithm(n, case=\"random\"):\n",
    "    dj_circuit = QuantumCircuit(n+1, n)\n",
    "\n",
    "    for qubit in range(n):\n",
    "        dj_circuit.h(qubit)\n",
    "\n",
    "    dj_circuit.x(n)\n",
    "    dj_circuit.h(n)\n",
    "\n",
    "    if case==\"random\":\n",
    "        random_case = np.random.randint(2)\n",
    "        if random_case == 0:\n",
    "            case = \"constant\"\n",
    "        else:\n",
    "            case=\"balanced\"\n",
    "    oracle = dj_oracle(case, n)\n",
    "    dj_circuit.append(oracle, range(n+1))\n",
    "\n",
    "    for i in range(n):\n",
    "        dj_circuit.h(i)\n",
    "        dj_circuit.measure(i, i)\n",
    "    \n",
    "    return dj_circuit\n"
   ]
  },
  {
   "cell_type": "code",
   "execution_count": 14,
   "metadata": {},
   "outputs": [
    {
     "output_type": "execute_result",
     "data": {
      "text/plain": "     ┌───┐     ┌─────────┐┌───┐┌─┐         \nq_0: ┤ H ├─────┤0        ├┤ H ├┤M├─────────\n     ├───┤     │         │├───┤└╥┘┌─┐      \nq_1: ┤ H ├─────┤1        ├┤ H ├─╫─┤M├──────\n     ├───┤     │         │├───┤ ║ └╥┘┌─┐   \nq_2: ┤ H ├─────┤2 Oracle ├┤ H ├─╫──╫─┤M├───\n     ├───┤     │         │├───┤ ║  ║ └╥┘┌─┐\nq_3: ┤ H ├─────┤3        ├┤ H ├─╫──╫──╫─┤M├\n     ├───┤┌───┐│         │└───┘ ║  ║  ║ └╥┘\nq_4: ┤ X ├┤ H ├┤4        ├──────╫──╫──╫──╫─\n     └───┘└───┘└─────────┘      ║  ║  ║  ║ \nc_0: ═══════════════════════════╩══╬══╬══╬═\n                                   ║  ║  ║ \nc_1: ══════════════════════════════╩══╬══╬═\n                                      ║  ║ \nc_2: ═════════════════════════════════╩══╬═\n                                         ║ \nc_3: ════════════════════════════════════╩═\n                                           ",
      "text/html": "<pre style=\"word-wrap: normal;white-space: pre;background: #fff0;line-height: 1.1;font-family: &quot;Courier New&quot;,Courier,monospace\">     ┌───┐     ┌─────────┐┌───┐┌─┐         \nq_0: ┤ H ├─────┤0        ├┤ H ├┤M├─────────\n     ├───┤     │         │├───┤└╥┘┌─┐      \nq_1: ┤ H ├─────┤1        ├┤ H ├─╫─┤M├──────\n     ├───┤     │         │├───┤ ║ └╥┘┌─┐   \nq_2: ┤ H ├─────┤2 Oracle ├┤ H ├─╫──╫─┤M├───\n     ├───┤     │         │├───┤ ║  ║ └╥┘┌─┐\nq_3: ┤ H ├─────┤3        ├┤ H ├─╫──╫──╫─┤M├\n     ├───┤┌───┐│         │└───┘ ║  ║  ║ └╥┘\nq_4: ┤ X ├┤ H ├┤4        ├──────╫──╫──╫──╫─\n     └───┘└───┘└─────────┘      ║  ║  ║  ║ \nc_0: ═══════════════════════════╩══╬══╬══╬═\n                                   ║  ║  ║ \nc_1: ══════════════════════════════╩══╬══╬═\n                                      ║  ║ \nc_2: ═════════════════════════════════╩══╬═\n                                         ║ \nc_3: ════════════════════════════════════╩═\n                                           </pre>"
     },
     "metadata": {},
     "execution_count": 14
    }
   ],
   "source": [
    "n = 4\n",
    "dj_circuit = dj_algorithm(n)\n",
    "dj_circuit.draw()"
   ]
  },
  {
   "cell_type": "code",
   "execution_count": 15,
   "metadata": {},
   "outputs": [
    {
     "output_type": "error",
     "ename": "ImportError",
     "evalue": "Must have Matplotlib installed.",
     "traceback": [
      "\u001b[1;31m---------------------------------------------------------------------------\u001b[0m",
      "\u001b[1;31mImportError\u001b[0m                               Traceback (most recent call last)",
      "\u001b[1;32m<ipython-input-15-58509bc0d7b9>\u001b[0m in \u001b[0;36m<module>\u001b[1;34m\u001b[0m\n\u001b[0;32m      6\u001b[0m \u001b[0manswer\u001b[0m \u001b[1;33m=\u001b[0m \u001b[0mresults\u001b[0m\u001b[1;33m.\u001b[0m\u001b[0mget_counts\u001b[0m\u001b[1;33m(\u001b[0m\u001b[1;33m)\u001b[0m\u001b[1;33m\u001b[0m\u001b[1;33m\u001b[0m\u001b[0m\n\u001b[0;32m      7\u001b[0m \u001b[1;33m\u001b[0m\u001b[0m\n\u001b[1;32m----> 8\u001b[1;33m \u001b[0mplot_histogram\u001b[0m\u001b[1;33m(\u001b[0m\u001b[0manswer\u001b[0m\u001b[1;33m)\u001b[0m\u001b[1;33m\u001b[0m\u001b[1;33m\u001b[0m\u001b[0m\n\u001b[0m",
      "\u001b[1;32mc:\\Users\\christian\\Documents\\christian\\work\\python\\qiskit_practice\\venv\\lib\\site-packages\\qiskit\\visualization\\counts_visualization.py\u001b[0m in \u001b[0;36mplot_histogram\u001b[1;34m(data, figsize, color, number_to_keep, sort, target_string, legend, bar_labels, title, ax)\u001b[0m\n\u001b[0;32m    102\u001b[0m     \"\"\"\n\u001b[0;32m    103\u001b[0m     \u001b[1;32mif\u001b[0m \u001b[1;32mnot\u001b[0m \u001b[0mHAS_MATPLOTLIB\u001b[0m\u001b[1;33m:\u001b[0m\u001b[1;33m\u001b[0m\u001b[1;33m\u001b[0m\u001b[0m\n\u001b[1;32m--> 104\u001b[1;33m         \u001b[1;32mraise\u001b[0m \u001b[0mImportError\u001b[0m\u001b[1;33m(\u001b[0m\u001b[1;34m'Must have Matplotlib installed.'\u001b[0m\u001b[1;33m)\u001b[0m\u001b[1;33m\u001b[0m\u001b[1;33m\u001b[0m\u001b[0m\n\u001b[0m\u001b[0;32m    105\u001b[0m     \u001b[1;32mif\u001b[0m \u001b[0msort\u001b[0m \u001b[1;32mnot\u001b[0m \u001b[1;32min\u001b[0m \u001b[0mVALID_SORTS\u001b[0m\u001b[1;33m:\u001b[0m\u001b[1;33m\u001b[0m\u001b[1;33m\u001b[0m\u001b[0m\n\u001b[0;32m    106\u001b[0m         raise VisualizationError(\"Value of sort option, %s, isn't a \"\n",
      "\u001b[1;31mImportError\u001b[0m: Must have Matplotlib installed."
     ]
    }
   ],
   "source": [
    "# using local simulator\n",
    "backend = BasicAer.get_backend('qasm_simulator')\n",
    "shots = 1024\n",
    "dj_circuit = dj_algorithm(n, 'constant')\n",
    "results = execute(dj_circuit, backend=backend, shots=shots).result()\n",
    "answer = results.get_counts()\n",
    "\n",
    "plot_histogram(answer)"
   ]
  },
  {
   "cell_type": "code",
   "execution_count": null,
   "metadata": {},
   "outputs": [],
   "source": []
  }
 ]
}